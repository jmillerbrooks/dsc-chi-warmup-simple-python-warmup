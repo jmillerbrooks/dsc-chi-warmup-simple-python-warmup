{
 "cells": [
  {
   "cell_type": "markdown",
   "metadata": {
    "ExecuteTime": {
     "end_time": "2020-07-11T21:39:14.406412Z",
     "start_time": "2020-07-11T21:39:14.403126Z"
    }
   },
   "source": [
    "# Light Coding Practice"
   ]
  },
  {
   "cell_type": "code",
   "execution_count": 1,
   "metadata": {
    "ExecuteTime": {
     "end_time": "2020-07-11T23:11:30.478562Z",
     "start_time": "2020-07-11T23:11:30.153056Z"
    }
   },
   "outputs": [],
   "source": [
    "from test_scripts.test_class import Test\n",
    "test = Test()"
   ]
  },
  {
   "cell_type": "markdown",
   "metadata": {},
   "source": [
    "# #1\n",
    "\n",
    "**Validate a string.**"
   ]
  },
  {
   "cell_type": "markdown",
   "metadata": {
    "ExecuteTime": {
     "end_time": "2020-07-11T21:40:14.920588Z",
     "start_time": "2020-07-11T21:40:14.917136Z"
    }
   },
   "source": [
    "Please define a function called `alphanumeric` that validates if a user input string is alphanumeric. \n",
    "\n",
    "The function receives a string, and outputs either `True` or `False`. \n",
    "\n",
    "The given string is not nil/null/NULL/None, so you don't have to check that.\n",
    "\n",
    "<u>The string has the following conditions to be alphanumeric:</u>\n",
    "\n",
    "- Allowed characters are uppercase / lowercase latin letters and digits from 0 to 9\n",
    "- No whitespaces / underscore"
   ]
  },
  {
   "cell_type": "code",
   "execution_count": 2,
   "metadata": {
    "ExecuteTime": {
     "end_time": "2020-07-11T22:59:37.710708Z",
     "start_time": "2020-07-11T22:59:37.708025Z"
    }
   },
   "outputs": [],
   "source": [
    "def alphanumeric(string):\n",
    "    import re\n",
    "    pattern = re.compile(r\"[^a-zA-Z0-9]\")\n",
    "    matching = re.search(pattern, string)\n",
    "    return not matching\n"
   ]
  },
  {
   "cell_type": "markdown",
   "metadata": {},
   "source": [
    "***Test your function with the cell below***"
   ]
  },
  {
   "cell_type": "code",
   "execution_count": 3,
   "metadata": {},
   "outputs": [
    {
     "ename": "AttributeError",
     "evalue": "'Test' object has no attribute 'test_alphanumeric'",
     "output_type": "error",
     "traceback": [
      "\u001b[0;31m---------------------------------------------------------------------------\u001b[0m",
      "\u001b[0;31mAttributeError\u001b[0m                            Traceback (most recent call last)",
      "\u001b[0;32m<ipython-input-3-c4501da26824>\u001b[0m in \u001b[0;36m<module>\u001b[0;34m\u001b[0m\n\u001b[0;32m----> 1\u001b[0;31m \u001b[0mtest\u001b[0m\u001b[0;34m.\u001b[0m\u001b[0mtest_alphanumeric\u001b[0m\u001b[0;34m(\u001b[0m\u001b[0malphanumeric\u001b[0m\u001b[0;34m)\u001b[0m\u001b[0;34m\u001b[0m\u001b[0;34m\u001b[0m\u001b[0m\n\u001b[0m",
      "\u001b[0;31mAttributeError\u001b[0m: 'Test' object has no attribute 'test_alphanumeric'"
     ]
    }
   ],
   "source": [
    "test.test_alphanumeric(alphanumeric)"
   ]
  },
  {
   "cell_type": "markdown",
   "metadata": {
    "ExecuteTime": {
     "end_time": "2020-07-11T21:50:34.939297Z",
     "start_time": "2020-07-11T21:50:34.936475Z"
    }
   },
   "source": [
    "# #2\n",
    "\n",
    "**Find the difference between two sets.**\n",
    "\n",
    "In the following cell, we import two sets.\n",
    "\n",
    "- `car_owners` = A set of car owners within a community\n",
    "- `church_goers` A set of people from the same community who regularly attend chuch"
   ]
  },
  {
   "cell_type": "code",
   "execution_count": 5,
   "metadata": {
    "ExecuteTime": {
     "end_time": "2020-07-11T23:00:40.549136Z",
     "start_time": "2020-07-11T23:00:40.537753Z"
    }
   },
   "outputs": [],
   "source": [
    "import pickle\n",
    "import os\n",
    "\n",
    "path = os.path.join('data', 'car_owners.pkl')\n",
    "with open(path, 'rb') as driver_file:\n",
    "    car_owners = pickle.load(driver_file)\n",
    "    \n",
    "path = os.path.join('data', 'church_goers.pkl')\n",
    "with open(path, 'rb') as church_file:\n",
    "    church_goers = pickle.load(church_file)"
   ]
  },
  {
   "cell_type": "markdown",
   "metadata": {},
   "source": [
    "<u>In cell below,</u> find the members of the community that do not own cars and attend church regularly."
   ]
  },
  {
   "cell_type": "code",
   "execution_count": 8,
   "metadata": {},
   "outputs": [
    {
     "data": {
      "text/plain": [
       "set"
      ]
     },
     "execution_count": 8,
     "metadata": {},
     "output_type": "execute_result"
    }
   ],
   "source": [
    "type(church_goers)"
   ]
  },
  {
   "cell_type": "code",
   "execution_count": 9,
   "metadata": {},
   "outputs": [],
   "source": [
    "# Your code here\n",
    "non_driving_church_goers = church_goers.difference(car_owners)"
   ]
  },
  {
   "cell_type": "markdown",
   "metadata": {},
   "source": [
    "***Test the results with the cell below***"
   ]
  },
  {
   "cell_type": "code",
   "execution_count": 10,
   "metadata": {},
   "outputs": [
    {
     "data": {
      "text/markdown": [
       "✅ **Hey, you did it.  Good job.**"
      ],
      "text/plain": [
       "<IPython.core.display.Markdown object>"
      ]
     },
     "metadata": {},
     "output_type": "display_data"
    }
   ],
   "source": [
    "test.run_test(non_driving_church_goers, 'set_problem')"
   ]
  },
  {
   "cell_type": "markdown",
   "metadata": {},
   "source": [
    "# #3\n",
    "**We want to identify the individual words within hashtags.**\n",
    "\n",
    "Every hashtag will use `PascalCase` which means every word will begin with a capital letter.\n",
    "\n",
    "<u>In the cell below,</u> define a function called `split_hashtag` that splits a given hashtag into individual words, and returns those words as a list of string.\n",
    "\n",
    ">The function should not return any words with a '#' character. "
   ]
  },
  {
   "cell_type": "code",
   "execution_count": 13,
   "metadata": {},
   "outputs": [
    {
     "data": {
      "text/plain": [
       "['Test', 'A', 'Tag']"
      ]
     },
     "execution_count": 13,
     "metadata": {},
     "output_type": "execute_result"
    }
   ],
   "source": [
    "# Your code here\n",
    "def split_hashtag(string):\n",
    "    import re\n",
    "    string = string.strip('#')\n",
    "    pattern = re.compile(r\"[A-Z][a-z]*\")\n",
    "    words = re.findall(pattern, string)\n",
    "    return words\n",
    "split_hashtag('#TestATag')"
   ]
  },
  {
   "cell_type": "markdown",
   "metadata": {},
   "source": [
    "***Run the cell below to test your function!***"
   ]
  },
  {
   "cell_type": "code",
   "execution_count": 14,
   "metadata": {},
   "outputs": [
    {
     "ename": "AttributeError",
     "evalue": "'Test' object has no attribute 'test_hashtag'",
     "output_type": "error",
     "traceback": [
      "\u001b[0;31m---------------------------------------------------------------------------\u001b[0m",
      "\u001b[0;31mAttributeError\u001b[0m                            Traceback (most recent call last)",
      "\u001b[0;32m<ipython-input-14-0e9f8e11762b>\u001b[0m in \u001b[0;36m<module>\u001b[0;34m\u001b[0m\n\u001b[0;32m----> 1\u001b[0;31m \u001b[0mtest\u001b[0m\u001b[0;34m.\u001b[0m\u001b[0mtest_hashtag\u001b[0m\u001b[0;34m(\u001b[0m\u001b[0msplit_hashtag\u001b[0m\u001b[0;34m)\u001b[0m\u001b[0;34m\u001b[0m\u001b[0;34m\u001b[0m\u001b[0m\n\u001b[0m",
      "\u001b[0;31mAttributeError\u001b[0m: 'Test' object has no attribute 'test_hashtag'"
     ]
    }
   ],
   "source": [
    "test.test_hashtag(split_hashtag)"
   ]
  },
  {
   "cell_type": "code",
   "execution_count": null,
   "metadata": {},
   "outputs": [],
   "source": []
  }
 ],
 "metadata": {
  "hide_input": false,
  "kernelspec": {
   "display_name": "Python 3",
   "language": "python",
   "name": "python3"
  },
  "language_info": {
   "codemirror_mode": {
    "name": "ipython",
    "version": 3
   },
   "file_extension": ".py",
   "mimetype": "text/x-python",
   "name": "python",
   "nbconvert_exporter": "python",
   "pygments_lexer": "ipython3",
   "version": "3.7.6"
  },
  "toc": {
   "base_numbering": 1,
   "nav_menu": {},
   "number_sections": false,
   "sideBar": true,
   "skip_h1_title": true,
   "title_cell": "Table of Contents",
   "title_sidebar": "Contents",
   "toc_cell": false,
   "toc_position": {},
   "toc_section_display": true,
   "toc_window_display": false
  },
  "varInspector": {
   "cols": {
    "lenName": 16,
    "lenType": 16,
    "lenVar": 40
   },
   "kernels_config": {
    "python": {
     "delete_cmd_postfix": "",
     "delete_cmd_prefix": "del ",
     "library": "var_list.py",
     "varRefreshCmd": "print(var_dic_list())"
    },
    "r": {
     "delete_cmd_postfix": ") ",
     "delete_cmd_prefix": "rm(",
     "library": "var_list.r",
     "varRefreshCmd": "cat(var_dic_list()) "
    }
   },
   "types_to_exclude": [
    "module",
    "function",
    "builtin_function_or_method",
    "instance",
    "_Feature"
   ],
   "window_display": false
  }
 },
 "nbformat": 4,
 "nbformat_minor": 4
}
